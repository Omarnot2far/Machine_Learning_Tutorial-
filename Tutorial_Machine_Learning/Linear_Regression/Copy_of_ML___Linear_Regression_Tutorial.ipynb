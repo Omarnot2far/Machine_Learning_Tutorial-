{
  "nbformat": 4,
  "nbformat_minor": 0,
  "metadata": {
    "colab": {
      "provenance": []
    },
    "kernelspec": {
      "name": "python3",
      "display_name": "Python 3"
    },
    "language_info": {
      "name": "python"
    }
  },
  "cells": [
    {
      "cell_type": "markdown",
      "source": [
        "# Linear Regression Tutorial"
      ],
      "metadata": {
        "id": "syriULbBRdo4"
      }
    },
    {
      "cell_type": "code",
      "source": [],
      "metadata": {
        "id": "hgJ8rgwlHVLs"
      },
      "execution_count": null,
      "outputs": []
    },
    {
      "cell_type": "markdown",
      "source": [
        "# Linear Regression\n",
        "Linear regression is a type of predictive analysis that attempts to predict the value of a dependent variable (y-axis) with another independent variable (x-axis).\n",
        "\n",
        "\n",
        "Imagine plotting data points on a graph where you have one variable on the x-axis (independent variable) and another on the y-axis (dependent variable)."
      ],
      "metadata": {
        "id": "cTcvTGq1Riye"
      }
    },
    {
      "cell_type": "markdown",
      "source": [
        "**Why do we use Linear Regression ?**\n",
        "\n",
        "The goal of linear regression is to find a straight line (the \"best-fit\" line) that minimizes the vertical distance between each data point and the line.\n",
        "\n",
        "\n",
        "This line represents the linear relationship between the variables.\n",
        "\n",
        "\n",
        "***Example:*** Imagine you have a big bag of colorful balls, and you want to know how heavy they are based on their size. You know that bigger balls are usually heavier, but you want to find out exactly how heavy they are.\n",
        "\n",
        "\n",
        "Linear regression is like a magical tool that helps you figure this out."
      ],
      "metadata": {
        "id": "E-MPxvfUSNvN"
      }
    },
    {
      "cell_type": "markdown",
      "source": [
        "**The equation of a straight line**\n",
        "\n",
        "The equation of a straight line using hypothesis function\n",
        "\n",
        "***hθ(x)=θ0 +θ1x***\n",
        "\n",
        "where:\n",
        "\n",
        "**hθ(x)** is the predicted output (the hypothesis or prediction),\n",
        "\n",
        "**x** is the input feature (independent variable),\n",
        "\n",
        "**θ0** is the y-intercept parameter (bias),\n",
        "\n",
        "**θ1** is the slope parameter (weight) associated with the input feature x.\n",
        "\n",
        "This equation represents the linear relationship between the input feature x and the predicted output hθ(x) in the context of linear regression, where θ0 and θ1 are the parameters that need to be learned from the data through training.\n",
        "\n",
        "\n",
        "The goal of training is to find the optimal values for θ0 and θ1 that minimize the difference between the predicted values hθ(x) and the actual target values.\n",
        "\n",
        "\n",
        "***From the above Example:*** we want to guess how heavy a ball is just by looking at its size. We use our magic Straight line to make this guess. The line helps us make predictions."
      ],
      "metadata": {
        "id": "L5SKuI9ZSYr5"
      }
    },
    {
      "cell_type": "markdown",
      "source": [
        "**How to make straight line that best fits the data?**\n",
        "\n",
        "To turn the hypothesis function into a straight line that best fits the data, we use a **cost function**."
      ],
      "metadata": {
        "id": "5VOJ6LQtS9T2"
      }
    },
    {
      "cell_type": "markdown",
      "source": [
        "# Cost function\n",
        "\n",
        "**What cost function does?**\n",
        "\n",
        "Cost function measures the difference between the predicted values and the actual target values.\n",
        "\n",
        "The cost function for linear regression is typically the **Mean Squared Error (MSE)**.\n",
        "\n",
        "\n",
        "The cost function ***(J)*** is one that measures the average distance between the outputs from a hypothesis (which is dependent on parameters θ0 and θ1) and the actual values.\n",
        "\n",
        "It helps us answer the question: for what values of ***θ0*** and ***θ1*** will the hypothesized line best match our data points. The line best matches our data points when the cost function is minimized."
      ],
      "metadata": {
        "id": "wGI9Bv5xTAej"
      }
    },
    {
      "cell_type": "markdown",
      "source": [
        "**The cost function is:**\n",
        "\n",
        "\n",
        "***J((theta))=(1/2m)*(sum over i=1 to m(((h(theta)(x(i))) - y(i))^2))**\n",
        "\n",
        "\n",
        "where:\n",
        "\n",
        "\n",
        "***-h(theta)(x(i))*** is the predicted value for the i-th training example using the hypothesis hθ(x).\n",
        "\n",
        "\n",
        "***-y(i)*** is actual target value for the i-th training example.\n",
        "\n",
        "\n",
        "***-m *** is the total number of data points.\n",
        "\n",
        "\n",
        "***-1/m*** to find the average.\n",
        "\n",
        "\n",
        "***-1/2m and the squared sign*** on the end are simply there for computational convenience.\n",
        "\n",
        "\n",
        "The goal of training is to minimize this cost function, which corresponds to finding the optimal values for the parameters the **θ0** y-intercept and **θ1** slope of the straight line that minimize the overall prediction error.\n",
        "\n",
        "\n",
        "***From the above Example:*** We want our guesses to be as close as possible to the real weights of the balls. So, we use a special tool called a \"cost function\" to see how wrong our guesses are. Our goal is to make this cost as small as possible."
      ],
      "metadata": {
        "id": "3Ftl1UoRTjMH"
      }
    },
    {
      "cell_type": "markdown",
      "source": [
        "# Gradient Descent\n",
        "\n",
        "**Gradient Descent** is an optimization algorithm that helps in finding the global minimum of the cost function. The basic idea is to iteratively update the parameters θ0 and θ1 in the opposite direction of the gradient of the cost function.\n",
        "\n",
        "\n",
        "The update rules for gradient descent are:\n",
        "\n",
        "\n",
        "***θ0: = θ0 - α (1/m)*(sum over i=1 to m (h(theta)(x(i))) - y(i))**\n",
        "\n",
        "\n",
        "***θ1: = θ1 - α (1/m)(sum over i=1 to m (h(theta)(x(i))) - y(i))x(i)***\n",
        "\n",
        "\n",
        "where:\n",
        "\n",
        "**α** is the learning rate, controlling the step size of each update."
      ],
      "metadata": {
        "id": "Lbh6J0I7VS_F"
      }
    },
    {
      "cell_type": "markdown",
      "source": [
        "By repeatedly applying these update rules in a number of iterations, gradient descent gradually converges towards the global minimum of the cost function, effectively adjusting the parameters **θ0** and **θ1** to obtain the best-fitting straight line that minimizes the prediction error.\n",
        "\n",
        "\n",
        "***From the above Example:***  To make our guesses better, we use another magical tool called \"gradient descent.\" It helps us adjust our magic line a little bit at a time. We keep doing this until our guesses get really close to the real weights."
      ],
      "metadata": {
        "id": "cxeEsmS9VtLQ"
      }
    },
    {
      "cell_type": "markdown",
      "source": [
        "# Applying Linear Regresion Machine Learning"
      ],
      "metadata": {
        "id": "RqO2KOHKWt1P"
      }
    },
    {
      "cell_type": "markdown",
      "source": [
        "**1.Import Python Libraries**"
      ],
      "metadata": {
        "id": "kfU7vpXQWwqk"
      }
    },
    {
      "cell_type": "code",
      "execution_count": null,
      "metadata": {
        "id": "ksG6kniYRchZ"
      },
      "outputs": [],
      "source": [
        "import pandas as pd\n",
        "import numpy as np\n",
        "import matplotlib.pyplot as plt\n",
        "import seaborn as sns"
      ]
    },
    {
      "cell_type": "markdown",
      "source": [
        "**2.Load Dataset**"
      ],
      "metadata": {
        "id": "scs-nxlgbS1F"
      }
    },
    {
      "cell_type": "code",
      "source": [
        "df = pd.read_csv('/content/raw.csv')\n",
        "df.head()"
      ],
      "metadata": {
        "colab": {
          "base_uri": "https://localhost:8080/",
          "height": 206
        },
        "id": "P7RIyxxCW9AQ",
        "outputId": "e7cc95ee-735e-445f-bec1-8572682eafd5"
      },
      "execution_count": null,
      "outputs": [
        {
          "output_type": "execute_result",
          "data": {
            "text/plain": [
              "   gender race_ethnicity parental_level_of_education         lunch  \\\n",
              "0  female        group B           bachelor's degree      standard   \n",
              "1  female        group C                some college      standard   \n",
              "2  female        group B             master's degree      standard   \n",
              "3    male        group A          associate's degree  free/reduced   \n",
              "4    male        group C                some college      standard   \n",
              "\n",
              "  test_preparation_course  math_score  reading_score  writing_score  \n",
              "0                    none          72             72             74  \n",
              "1               completed          69             90             88  \n",
              "2                    none          90             95             93  \n",
              "3                    none          47             57             44  \n",
              "4                    none          76             78             75  "
            ],
            "text/html": [
              "\n",
              "  <div id=\"df-4c32979e-4909-46b8-a37c-a3c8c9c2b203\" class=\"colab-df-container\">\n",
              "    <div>\n",
              "<style scoped>\n",
              "    .dataframe tbody tr th:only-of-type {\n",
              "        vertical-align: middle;\n",
              "    }\n",
              "\n",
              "    .dataframe tbody tr th {\n",
              "        vertical-align: top;\n",
              "    }\n",
              "\n",
              "    .dataframe thead th {\n",
              "        text-align: right;\n",
              "    }\n",
              "</style>\n",
              "<table border=\"1\" class=\"dataframe\">\n",
              "  <thead>\n",
              "    <tr style=\"text-align: right;\">\n",
              "      <th></th>\n",
              "      <th>gender</th>\n",
              "      <th>race_ethnicity</th>\n",
              "      <th>parental_level_of_education</th>\n",
              "      <th>lunch</th>\n",
              "      <th>test_preparation_course</th>\n",
              "      <th>math_score</th>\n",
              "      <th>reading_score</th>\n",
              "      <th>writing_score</th>\n",
              "    </tr>\n",
              "  </thead>\n",
              "  <tbody>\n",
              "    <tr>\n",
              "      <th>0</th>\n",
              "      <td>female</td>\n",
              "      <td>group B</td>\n",
              "      <td>bachelor's degree</td>\n",
              "      <td>standard</td>\n",
              "      <td>none</td>\n",
              "      <td>72</td>\n",
              "      <td>72</td>\n",
              "      <td>74</td>\n",
              "    </tr>\n",
              "    <tr>\n",
              "      <th>1</th>\n",
              "      <td>female</td>\n",
              "      <td>group C</td>\n",
              "      <td>some college</td>\n",
              "      <td>standard</td>\n",
              "      <td>completed</td>\n",
              "      <td>69</td>\n",
              "      <td>90</td>\n",
              "      <td>88</td>\n",
              "    </tr>\n",
              "    <tr>\n",
              "      <th>2</th>\n",
              "      <td>female</td>\n",
              "      <td>group B</td>\n",
              "      <td>master's degree</td>\n",
              "      <td>standard</td>\n",
              "      <td>none</td>\n",
              "      <td>90</td>\n",
              "      <td>95</td>\n",
              "      <td>93</td>\n",
              "    </tr>\n",
              "    <tr>\n",
              "      <th>3</th>\n",
              "      <td>male</td>\n",
              "      <td>group A</td>\n",
              "      <td>associate's degree</td>\n",
              "      <td>free/reduced</td>\n",
              "      <td>none</td>\n",
              "      <td>47</td>\n",
              "      <td>57</td>\n",
              "      <td>44</td>\n",
              "    </tr>\n",
              "    <tr>\n",
              "      <th>4</th>\n",
              "      <td>male</td>\n",
              "      <td>group C</td>\n",
              "      <td>some college</td>\n",
              "      <td>standard</td>\n",
              "      <td>none</td>\n",
              "      <td>76</td>\n",
              "      <td>78</td>\n",
              "      <td>75</td>\n",
              "    </tr>\n",
              "  </tbody>\n",
              "</table>\n",
              "</div>\n",
              "    <div class=\"colab-df-buttons\">\n",
              "\n",
              "  <div class=\"colab-df-container\">\n",
              "    <button class=\"colab-df-convert\" onclick=\"convertToInteractive('df-4c32979e-4909-46b8-a37c-a3c8c9c2b203')\"\n",
              "            title=\"Convert this dataframe to an interactive table.\"\n",
              "            style=\"display:none;\">\n",
              "\n",
              "  <svg xmlns=\"http://www.w3.org/2000/svg\" height=\"24px\" viewBox=\"0 -960 960 960\">\n",
              "    <path d=\"M120-120v-720h720v720H120Zm60-500h600v-160H180v160Zm220 220h160v-160H400v160Zm0 220h160v-160H400v160ZM180-400h160v-160H180v160Zm440 0h160v-160H620v160ZM180-180h160v-160H180v160Zm440 0h160v-160H620v160Z\"/>\n",
              "  </svg>\n",
              "    </button>\n",
              "\n",
              "  <style>\n",
              "    .colab-df-container {\n",
              "      display:flex;\n",
              "      gap: 12px;\n",
              "    }\n",
              "\n",
              "    .colab-df-convert {\n",
              "      background-color: #E8F0FE;\n",
              "      border: none;\n",
              "      border-radius: 50%;\n",
              "      cursor: pointer;\n",
              "      display: none;\n",
              "      fill: #1967D2;\n",
              "      height: 32px;\n",
              "      padding: 0 0 0 0;\n",
              "      width: 32px;\n",
              "    }\n",
              "\n",
              "    .colab-df-convert:hover {\n",
              "      background-color: #E2EBFA;\n",
              "      box-shadow: 0px 1px 2px rgba(60, 64, 67, 0.3), 0px 1px 3px 1px rgba(60, 64, 67, 0.15);\n",
              "      fill: #174EA6;\n",
              "    }\n",
              "\n",
              "    .colab-df-buttons div {\n",
              "      margin-bottom: 4px;\n",
              "    }\n",
              "\n",
              "    [theme=dark] .colab-df-convert {\n",
              "      background-color: #3B4455;\n",
              "      fill: #D2E3FC;\n",
              "    }\n",
              "\n",
              "    [theme=dark] .colab-df-convert:hover {\n",
              "      background-color: #434B5C;\n",
              "      box-shadow: 0px 1px 3px 1px rgba(0, 0, 0, 0.15);\n",
              "      filter: drop-shadow(0px 1px 2px rgba(0, 0, 0, 0.3));\n",
              "      fill: #FFFFFF;\n",
              "    }\n",
              "  </style>\n",
              "\n",
              "    <script>\n",
              "      const buttonEl =\n",
              "        document.querySelector('#df-4c32979e-4909-46b8-a37c-a3c8c9c2b203 button.colab-df-convert');\n",
              "      buttonEl.style.display =\n",
              "        google.colab.kernel.accessAllowed ? 'block' : 'none';\n",
              "\n",
              "      async function convertToInteractive(key) {\n",
              "        const element = document.querySelector('#df-4c32979e-4909-46b8-a37c-a3c8c9c2b203');\n",
              "        const dataTable =\n",
              "          await google.colab.kernel.invokeFunction('convertToInteractive',\n",
              "                                                    [key], {});\n",
              "        if (!dataTable) return;\n",
              "\n",
              "        const docLinkHtml = 'Like what you see? Visit the ' +\n",
              "          '<a target=\"_blank\" href=https://colab.research.google.com/notebooks/data_table.ipynb>data table notebook</a>'\n",
              "          + ' to learn more about interactive tables.';\n",
              "        element.innerHTML = '';\n",
              "        dataTable['output_type'] = 'display_data';\n",
              "        await google.colab.output.renderOutput(dataTable, element);\n",
              "        const docLink = document.createElement('div');\n",
              "        docLink.innerHTML = docLinkHtml;\n",
              "        element.appendChild(docLink);\n",
              "      }\n",
              "    </script>\n",
              "  </div>\n",
              "\n",
              "\n",
              "<div id=\"df-0cdbcf62-8185-4bd2-a4d1-fa25eaf6640c\">\n",
              "  <button class=\"colab-df-quickchart\" onclick=\"quickchart('df-0cdbcf62-8185-4bd2-a4d1-fa25eaf6640c')\"\n",
              "            title=\"Suggest charts.\"\n",
              "            style=\"display:none;\">\n",
              "\n",
              "<svg xmlns=\"http://www.w3.org/2000/svg\" height=\"24px\"viewBox=\"0 0 24 24\"\n",
              "     width=\"24px\">\n",
              "    <g>\n",
              "        <path d=\"M19 3H5c-1.1 0-2 .9-2 2v14c0 1.1.9 2 2 2h14c1.1 0 2-.9 2-2V5c0-1.1-.9-2-2-2zM9 17H7v-7h2v7zm4 0h-2V7h2v10zm4 0h-2v-4h2v4z\"/>\n",
              "    </g>\n",
              "</svg>\n",
              "  </button>\n",
              "\n",
              "<style>\n",
              "  .colab-df-quickchart {\n",
              "      --bg-color: #E8F0FE;\n",
              "      --fill-color: #1967D2;\n",
              "      --hover-bg-color: #E2EBFA;\n",
              "      --hover-fill-color: #174EA6;\n",
              "      --disabled-fill-color: #AAA;\n",
              "      --disabled-bg-color: #DDD;\n",
              "  }\n",
              "\n",
              "  [theme=dark] .colab-df-quickchart {\n",
              "      --bg-color: #3B4455;\n",
              "      --fill-color: #D2E3FC;\n",
              "      --hover-bg-color: #434B5C;\n",
              "      --hover-fill-color: #FFFFFF;\n",
              "      --disabled-bg-color: #3B4455;\n",
              "      --disabled-fill-color: #666;\n",
              "  }\n",
              "\n",
              "  .colab-df-quickchart {\n",
              "    background-color: var(--bg-color);\n",
              "    border: none;\n",
              "    border-radius: 50%;\n",
              "    cursor: pointer;\n",
              "    display: none;\n",
              "    fill: var(--fill-color);\n",
              "    height: 32px;\n",
              "    padding: 0;\n",
              "    width: 32px;\n",
              "  }\n",
              "\n",
              "  .colab-df-quickchart:hover {\n",
              "    background-color: var(--hover-bg-color);\n",
              "    box-shadow: 0 1px 2px rgba(60, 64, 67, 0.3), 0 1px 3px 1px rgba(60, 64, 67, 0.15);\n",
              "    fill: var(--button-hover-fill-color);\n",
              "  }\n",
              "\n",
              "  .colab-df-quickchart-complete:disabled,\n",
              "  .colab-df-quickchart-complete:disabled:hover {\n",
              "    background-color: var(--disabled-bg-color);\n",
              "    fill: var(--disabled-fill-color);\n",
              "    box-shadow: none;\n",
              "  }\n",
              "\n",
              "  .colab-df-spinner {\n",
              "    border: 2px solid var(--fill-color);\n",
              "    border-color: transparent;\n",
              "    border-bottom-color: var(--fill-color);\n",
              "    animation:\n",
              "      spin 1s steps(1) infinite;\n",
              "  }\n",
              "\n",
              "  @keyframes spin {\n",
              "    0% {\n",
              "      border-color: transparent;\n",
              "      border-bottom-color: var(--fill-color);\n",
              "      border-left-color: var(--fill-color);\n",
              "    }\n",
              "    20% {\n",
              "      border-color: transparent;\n",
              "      border-left-color: var(--fill-color);\n",
              "      border-top-color: var(--fill-color);\n",
              "    }\n",
              "    30% {\n",
              "      border-color: transparent;\n",
              "      border-left-color: var(--fill-color);\n",
              "      border-top-color: var(--fill-color);\n",
              "      border-right-color: var(--fill-color);\n",
              "    }\n",
              "    40% {\n",
              "      border-color: transparent;\n",
              "      border-right-color: var(--fill-color);\n",
              "      border-top-color: var(--fill-color);\n",
              "    }\n",
              "    60% {\n",
              "      border-color: transparent;\n",
              "      border-right-color: var(--fill-color);\n",
              "    }\n",
              "    80% {\n",
              "      border-color: transparent;\n",
              "      border-right-color: var(--fill-color);\n",
              "      border-bottom-color: var(--fill-color);\n",
              "    }\n",
              "    90% {\n",
              "      border-color: transparent;\n",
              "      border-bottom-color: var(--fill-color);\n",
              "    }\n",
              "  }\n",
              "</style>\n",
              "\n",
              "  <script>\n",
              "    async function quickchart(key) {\n",
              "      const quickchartButtonEl =\n",
              "        document.querySelector('#' + key + ' button');\n",
              "      quickchartButtonEl.disabled = true;  // To prevent multiple clicks.\n",
              "      quickchartButtonEl.classList.add('colab-df-spinner');\n",
              "      try {\n",
              "        const charts = await google.colab.kernel.invokeFunction(\n",
              "            'suggestCharts', [key], {});\n",
              "      } catch (error) {\n",
              "        console.error('Error during call to suggestCharts:', error);\n",
              "      }\n",
              "      quickchartButtonEl.classList.remove('colab-df-spinner');\n",
              "      quickchartButtonEl.classList.add('colab-df-quickchart-complete');\n",
              "    }\n",
              "    (() => {\n",
              "      let quickchartButtonEl =\n",
              "        document.querySelector('#df-0cdbcf62-8185-4bd2-a4d1-fa25eaf6640c button');\n",
              "      quickchartButtonEl.style.display =\n",
              "        google.colab.kernel.accessAllowed ? 'block' : 'none';\n",
              "    })();\n",
              "  </script>\n",
              "</div>\n",
              "    </div>\n",
              "  </div>\n"
            ]
          },
          "metadata": {},
          "execution_count": 2
        }
      ]
    },
    {
      "cell_type": "markdown",
      "source": [
        "**3.Review The Data**"
      ],
      "metadata": {
        "id": "wPssJcNobcAs"
      }
    },
    {
      "cell_type": "code",
      "source": [
        "df.info()"
      ],
      "metadata": {
        "colab": {
          "base_uri": "https://localhost:8080/"
        },
        "id": "mN2f0wX4YDpl",
        "outputId": "4654786f-41ef-4303-e9dd-23f1eb400f7d"
      },
      "execution_count": null,
      "outputs": [
        {
          "output_type": "stream",
          "name": "stdout",
          "text": [
            "<class 'pandas.core.frame.DataFrame'>\n",
            "RangeIndex: 1000 entries, 0 to 999\n",
            "Data columns (total 8 columns):\n",
            " #   Column                       Non-Null Count  Dtype \n",
            "---  ------                       --------------  ----- \n",
            " 0   gender                       1000 non-null   object\n",
            " 1   race_ethnicity               1000 non-null   object\n",
            " 2   parental_level_of_education  1000 non-null   object\n",
            " 3   lunch                        1000 non-null   object\n",
            " 4   test_preparation_course      1000 non-null   object\n",
            " 5   math_score                   1000 non-null   int64 \n",
            " 6   reading_score                1000 non-null   int64 \n",
            " 7   writing_score                1000 non-null   int64 \n",
            "dtypes: int64(3), object(5)\n",
            "memory usage: 62.6+ KB\n"
          ]
        }
      ]
    },
    {
      "cell_type": "markdown",
      "source": [
        "# 4. Exploratory Data Analysis (EDA):"
      ],
      "metadata": {
        "id": "fbrQRFtWZdM3"
      }
    },
    {
      "cell_type": "markdown",
      "source": [
        "**Types of variables**\n",
        "\n",
        "Important to check out types of variable in the dataset, segregate the dataset into categorical and numerical variables. There are a mixture of categorical and numerical variables in the dataset. Categorical variables have data type object. Numerical variables have data type float64.\n"
      ],
      "metadata": {
        "id": "-OBYx0ahYSST"
      }
    },
    {
      "cell_type": "markdown",
      "source": [
        "**NaN Values:**\n",
        "\n",
        "If the columns has more than 50% of NaN values, drop those columns."
      ],
      "metadata": {
        "id": "JMWBCOPcZP8i"
      }
    },
    {
      "cell_type": "markdown",
      "source": [
        "**Cardinality**\n",
        "\n",
        "**Low cardinality:** If there's only one category in a column, it won't provide any unique information to our model. Low cardinality means the observation in the columns has constant value which means same value in all the rows of the columns. Ex. type of building has only apartment. So don’t include in the model. Drop\n",
        "\n",
        "\n",
        "**High cardinality:** as low cardinality don’t give you same information to the model, High cardinality doesn’t give any information to the model. Can drop also.\n",
        "\n",
        "As low cardinality gives low or no information and high cardinality is overload with information which both doesn’t help the model since model looks for trend."
      ],
      "metadata": {
        "id": "FULQyqxNZwtV"
      }
    },
    {
      "cell_type": "markdown",
      "source": [
        "**Multicollinearity:**  \n",
        "\n",
        "Multicollinearity, that is, features in our feature matrix that are highly correlated with each other. A good way to detect this is to use a **heatmap**.\n",
        "\n",
        "If few feature has corelation, we can only keep one feature, which one? Can check the info, if any of the feature has missing value, drop that.\n"
      ],
      "metadata": {
        "id": "aw1ee5WJZLJV"
      }
    },
    {
      "cell_type": "markdown",
      "source": [
        "**Leakage:**\n",
        "\n",
        "Leakage, that is, features that were created using our target or that would give our model information that it won't have access to when it's deployed.\n",
        "\n",
        "Leakage is that give your model access to information to which that would not have access if you were deploying in real world.\n",
        "\n",
        "We should look  into the dataset & see is there any features that has similar information to the model, if is, drop those."
      ],
      "metadata": {
        "id": "itvlv1DwaCjb"
      }
    },
    {
      "cell_type": "markdown",
      "source": [
        "**5.Split:**\n",
        "\n",
        "A key part in any model-building project is separating your target (y) (the thing you want to predict) from your features (X) (the information your model will use to make its predictions)."
      ],
      "metadata": {
        "id": "xG3qQNcyb7Kj"
      }
    },
    {
      "cell_type": "code",
      "source": [
        "X = df.drop(columns=['math_score'],axis=1)\n",
        "y = df['math_score']"
      ],
      "metadata": {
        "id": "KnoVOYrjYJWu"
      },
      "execution_count": null,
      "outputs": []
    },
    {
      "cell_type": "markdown",
      "source": [
        "# Feature Engineering\n",
        "\n",
        "**Feature engineering** is a very broad term that consists of different techniques to process data. These techniques help us to process our raw data into processed data ready to be fed into a machine learning algorithm. These techniques include filling missing values, encode categorical variables, variable transformation, create new variables from existing ones and others."
      ],
      "metadata": {
        "id": "pJ7zVLR8cuMc"
      }
    },
    {
      "cell_type": "markdown",
      "source": [
        "**Simple Imputer**\n",
        "\n",
        "SimpleImputer is a scikit-learn class which is helpful in handling the missing data in the predictive model dataset. It replaces the NaN values with a specified placeholder.\n",
        "\n",
        "\n",
        "It is implemented by the use of the SimpleImputer() method which takes the following arguments :\n",
        "\n",
        "missing_values : The missing_values placeholder which has to be imputed. By default is NaN\n",
        "\n",
        "\n",
        "strategy: The data which will replace the NaN values from the dataset. The strategy argument can take the values – ‘mean'(default), ‘median’, ‘most_frequent’ and ‘constant’."
      ],
      "metadata": {
        "id": "pDCNDkiGdCA7"
      }
    },
    {
      "cell_type": "markdown",
      "source": [
        "**One Hot Encoding(OHE)**\n",
        "\n",
        "OHE is the standard approach to encode categorical data.\n",
        "\n",
        "One hot encoding (OHE) creates a binary variable for each one of the different categories present in a variable. These binary variables take 1 if the observation shows a certain category or 0 otherwise. OHE is suitable for linear models.\n",
        "\n",
        "\n",
        "One hot encoding (OHE) creates by replacing the categorical variable by different boolean variables, which take value 0 or 1, to indicate whether or not a certain category / label of the variable was present for that observation. Each one of the boolean variables are also known as dummy variables or binary variables.\n",
        "\n",
        "\n",
        "For example, from the categorical variable \"Gender\", with labels 'female' and 'male', we can generate the boolean variable \"female\", which takes 1 if the person is female or 0 otherwise. We can also generate the variable male, which takes 1 if the person is \"male\" and 0 otherwise."
      ],
      "metadata": {
        "id": "i62x6oOtdJLU"
      }
    },
    {
      "cell_type": "markdown",
      "source": [
        "**Standard Scaling**\n",
        "\n",
        "Feature scaling is the process of setting the variables on a similar scale. This is usually done using normalization, standardization.\n",
        "\n",
        "Standardization is the process of centering the variable at 0 (zero mean) and standardizing the variance to 1 (unit variance), and it is suitable for variables with a Gaussian distribution."
      ],
      "metadata": {
        "id": "8-prX3judrIf"
      }
    },
    {
      "cell_type": "markdown",
      "source": [],
      "metadata": {
        "id": "OssNwAI4dRqf"
      }
    },
    {
      "cell_type": "code",
      "source": [
        "# Create Column Transformer with 3 types of transformers\n",
        "num_features = X.select_dtypes(exclude=\"object\").columns\n",
        "cat_features = X.select_dtypes(include=\"object\").columns\n",
        "\n",
        "from sklearn.preprocessing import OneHotEncoder, StandardScaler\n",
        "from sklearn.compose import ColumnTransformer\n",
        "\n",
        "numeric_transformer = StandardScaler()\n",
        "oh_transformer = OneHotEncoder()\n",
        "\n",
        "preprocessor = ColumnTransformer(\n",
        "    [\n",
        "        (\"OneHotEncoder\", oh_transformer, cat_features),\n",
        "         (\"StandardScaler\", numeric_transformer, num_features),\n",
        "    ]\n",
        ")"
      ],
      "metadata": {
        "id": "lT5D3wC7cly5"
      },
      "execution_count": null,
      "outputs": []
    },
    {
      "cell_type": "code",
      "source": [
        "X = preprocessor.fit_transform(X)"
      ],
      "metadata": {
        "id": "FHlxuq5JgUWU"
      },
      "execution_count": null,
      "outputs": []
    },
    {
      "cell_type": "markdown",
      "source": [
        "**Train_Test_Split**\n",
        "\n",
        "Create the feature matrix named X_train, which you'll use to train your model. Remember that your feature matrix should always be two-dimensional.\n",
        "\n",
        "\n",
        "we're adding  _train tag to the variable names for our feature matrix and target vector. This is to remind us that this is the data we'll use to train our model, and not the data we'll use to test it.\n",
        "\n",
        "\n",
        "Create the target vector named y_train, which you'll use to train your model. Remember that, in most cases, your target vector should be one-dimensional.\n"
      ],
      "metadata": {
        "id": "-zgm7knxgmYZ"
      }
    },
    {
      "cell_type": "code",
      "source": [
        "# split X and y into training and testing sets\n",
        "\n",
        "from sklearn.model_selection import train_test_split\n",
        "# Split the data into training and testing sets\n",
        "X_train, X_test, y_train, y_test = train_test_split(X, y, test_size=0.2, random_state=42)"
      ],
      "metadata": {
        "id": "VpzfyuvNgYmT"
      },
      "execution_count": null,
      "outputs": []
    },
    {
      "cell_type": "code",
      "source": [
        "# Check data types and shape\n",
        "print('X_train type:', type(X_train))\n",
        "print('y_train type:', type(y_train))\n",
        "print('X_train shape:', X_train.shape)\n",
        "print('y_train shape:', y_train.shape)\n",
        "\n",
        "# Check if 'MathScore' is in the DataFrame columns\n",
        "print('MathScore in columns:', 'MathScore' in df.columns)\n",
        "\n",
        "# Check for NaN values in 'MathScore'\n",
        "print('NaN values in MathScore:', df['math_score'].isnull().sum())"
      ],
      "metadata": {
        "colab": {
          "base_uri": "https://localhost:8080/"
        },
        "id": "rsGv5vFQg4YO",
        "outputId": "b7900c60-2865-4629-c9e2-7beef74983fa"
      },
      "execution_count": null,
      "outputs": [
        {
          "output_type": "stream",
          "name": "stdout",
          "text": [
            "X_train type: <class 'numpy.ndarray'>\n",
            "y_train type: <class 'pandas.core.series.Series'>\n",
            "X_train shape: (800, 19)\n",
            "y_train shape: (800,)\n",
            "MathScore in columns: False\n",
            "NaN values in MathScore: 0\n"
          ]
        }
      ]
    },
    {
      "cell_type": "markdown",
      "source": [
        "# Building Model\n",
        "\n",
        "Baseline: The first step in building a model is baselining. To do this, ask yourself how you will know if the model you build is performing well?\"\n",
        "\n",
        "One way to think about this is to see how a \"dumb\" model would perform on the same data. Some people also call this a naïve or baseline model, but it's always a model makes only one prediction prediction should be.\n",
        "\n",
        "Calculate the mean of your target vector y_train and assign it to the variable y_mean.\n",
        "\n",
        "Now that we have the one prediction that our dumb model will always make, we need to generate a list that repeats the prediction for every observation in our dataset\n"
      ],
      "metadata": {
        "id": "scNySkRnhIdz"
      }
    },
    {
      "cell_type": "code",
      "source": [
        "from sklearn.metrics import mean_absolute_error\n",
        "\n",
        "y_mean = y_train.mean()\n",
        "y_pred_baseline = [y_mean] * len(y_train)\n",
        "baseline_mae = mean_absolute_error(y_train, y_pred_baseline)\n",
        "print(\"Mean math score:\", y_mean)\n",
        "print(\"Baseline MAE:\", baseline_mae)"
      ],
      "metadata": {
        "colab": {
          "base_uri": "https://localhost:8080/"
        },
        "id": "VG37-tnNhVAt",
        "outputId": "dd2451a4-0ff7-45bd-f925-796b9810b38a"
      },
      "execution_count": null,
      "outputs": [
        {
          "output_type": "stream",
          "name": "stdout",
          "text": [
            "Mean math score: 66.49625\n",
            "Baseline MAE: 11.947471875000002\n"
          ]
        }
      ]
    },
    {
      "cell_type": "markdown",
      "source": [
        "**y_train.mean()** calculates the mean (average) of these target values, which is stored in the variable y_mean. It's the average math score of all students in the training set.\n",
        "\n",
        "\n",
        "y_pred_baseline is Creating a **\"baseline\"** **prediction** where we predict the mean score for every student.\n",
        "\n",
        "\n",
        "calculates the **Mean Absolute Error (MAE)** between the actual target values (y_train) and the baseline predictions (y_pred_baseline).\n",
        "\n",
        "MAE measures the average absolute differences between the actual scores and the baseline (mean) predictions."
      ],
      "metadata": {
        "id": "mvua51OahZUR"
      }
    },
    {
      "cell_type": "markdown",
      "source": [
        "# Model Training\n",
        "\n",
        "The steps to building and using a model are:\n",
        "\n",
        "**Define:** What type of model will it be? A decision tree? Some other type of model? Some other parameters of the model type are specified too.\n",
        "\n",
        "**Fit:** Capture patterns from provided data. This is the heart of modeling.\n",
        "\n",
        "**Predict:** Just what it sounds like\n",
        "\n",
        "**Evaluate:** Determine how accurate the model's predictions are.\n",
        "\n",
        "\n",
        "Fitting simple linear regression\n",
        "\n",
        "Import the LinearRegression class from the linear_model to train the model. Instantiate an object of the class named regressor."
      ],
      "metadata": {
        "id": "oq3FI1NihnkY"
      }
    },
    {
      "cell_type": "markdown",
      "source": [
        "**Define The Model**"
      ],
      "metadata": {
        "id": "NhcEUchXiPJl"
      }
    },
    {
      "cell_type": "code",
      "source": [
        "from sklearn.linear_model import LinearRegression\n",
        "LinearRegression = LinearRegression()"
      ],
      "metadata": {
        "id": "BnnG8BN_iB9A"
      },
      "execution_count": null,
      "outputs": []
    },
    {
      "cell_type": "markdown",
      "source": [
        "**Fit The Model**"
      ],
      "metadata": {
        "id": "7sx9Fd6hiVMM"
      }
    },
    {
      "cell_type": "code",
      "source": [
        "LinearRegression.fit(X_train, y_train)"
      ],
      "metadata": {
        "colab": {
          "base_uri": "https://localhost:8080/",
          "height": 74
        },
        "id": "n2uWS3z1iJF_",
        "outputId": "92decc21-9182-457c-c68f-d1a0b8736bef"
      },
      "execution_count": null,
      "outputs": [
        {
          "output_type": "execute_result",
          "data": {
            "text/plain": [
              "LinearRegression()"
            ],
            "text/html": [
              "<style>#sk-container-id-1 {color: black;background-color: white;}#sk-container-id-1 pre{padding: 0;}#sk-container-id-1 div.sk-toggleable {background-color: white;}#sk-container-id-1 label.sk-toggleable__label {cursor: pointer;display: block;width: 100%;margin-bottom: 0;padding: 0.3em;box-sizing: border-box;text-align: center;}#sk-container-id-1 label.sk-toggleable__label-arrow:before {content: \"▸\";float: left;margin-right: 0.25em;color: #696969;}#sk-container-id-1 label.sk-toggleable__label-arrow:hover:before {color: black;}#sk-container-id-1 div.sk-estimator:hover label.sk-toggleable__label-arrow:before {color: black;}#sk-container-id-1 div.sk-toggleable__content {max-height: 0;max-width: 0;overflow: hidden;text-align: left;background-color: #f0f8ff;}#sk-container-id-1 div.sk-toggleable__content pre {margin: 0.2em;color: black;border-radius: 0.25em;background-color: #f0f8ff;}#sk-container-id-1 input.sk-toggleable__control:checked~div.sk-toggleable__content {max-height: 200px;max-width: 100%;overflow: auto;}#sk-container-id-1 input.sk-toggleable__control:checked~label.sk-toggleable__label-arrow:before {content: \"▾\";}#sk-container-id-1 div.sk-estimator input.sk-toggleable__control:checked~label.sk-toggleable__label {background-color: #d4ebff;}#sk-container-id-1 div.sk-label input.sk-toggleable__control:checked~label.sk-toggleable__label {background-color: #d4ebff;}#sk-container-id-1 input.sk-hidden--visually {border: 0;clip: rect(1px 1px 1px 1px);clip: rect(1px, 1px, 1px, 1px);height: 1px;margin: -1px;overflow: hidden;padding: 0;position: absolute;width: 1px;}#sk-container-id-1 div.sk-estimator {font-family: monospace;background-color: #f0f8ff;border: 1px dotted black;border-radius: 0.25em;box-sizing: border-box;margin-bottom: 0.5em;}#sk-container-id-1 div.sk-estimator:hover {background-color: #d4ebff;}#sk-container-id-1 div.sk-parallel-item::after {content: \"\";width: 100%;border-bottom: 1px solid gray;flex-grow: 1;}#sk-container-id-1 div.sk-label:hover label.sk-toggleable__label {background-color: #d4ebff;}#sk-container-id-1 div.sk-serial::before {content: \"\";position: absolute;border-left: 1px solid gray;box-sizing: border-box;top: 0;bottom: 0;left: 50%;z-index: 0;}#sk-container-id-1 div.sk-serial {display: flex;flex-direction: column;align-items: center;background-color: white;padding-right: 0.2em;padding-left: 0.2em;position: relative;}#sk-container-id-1 div.sk-item {position: relative;z-index: 1;}#sk-container-id-1 div.sk-parallel {display: flex;align-items: stretch;justify-content: center;background-color: white;position: relative;}#sk-container-id-1 div.sk-item::before, #sk-container-id-1 div.sk-parallel-item::before {content: \"\";position: absolute;border-left: 1px solid gray;box-sizing: border-box;top: 0;bottom: 0;left: 50%;z-index: -1;}#sk-container-id-1 div.sk-parallel-item {display: flex;flex-direction: column;z-index: 1;position: relative;background-color: white;}#sk-container-id-1 div.sk-parallel-item:first-child::after {align-self: flex-end;width: 50%;}#sk-container-id-1 div.sk-parallel-item:last-child::after {align-self: flex-start;width: 50%;}#sk-container-id-1 div.sk-parallel-item:only-child::after {width: 0;}#sk-container-id-1 div.sk-dashed-wrapped {border: 1px dashed gray;margin: 0 0.4em 0.5em 0.4em;box-sizing: border-box;padding-bottom: 0.4em;background-color: white;}#sk-container-id-1 div.sk-label label {font-family: monospace;font-weight: bold;display: inline-block;line-height: 1.2em;}#sk-container-id-1 div.sk-label-container {text-align: center;}#sk-container-id-1 div.sk-container {/* jupyter's `normalize.less` sets `[hidden] { display: none; }` but bootstrap.min.css set `[hidden] { display: none !important; }` so we also need the `!important` here to be able to override the default hidden behavior on the sphinx rendered scikit-learn.org. See: https://github.com/scikit-learn/scikit-learn/issues/21755 */display: inline-block !important;position: relative;}#sk-container-id-1 div.sk-text-repr-fallback {display: none;}</style><div id=\"sk-container-id-1\" class=\"sk-top-container\"><div class=\"sk-text-repr-fallback\"><pre>LinearRegression()</pre><b>In a Jupyter environment, please rerun this cell to show the HTML representation or trust the notebook. <br />On GitHub, the HTML representation is unable to render, please try loading this page with nbviewer.org.</b></div><div class=\"sk-container\" hidden><div class=\"sk-item\"><div class=\"sk-estimator sk-toggleable\"><input class=\"sk-toggleable__control sk-hidden--visually\" id=\"sk-estimator-id-1\" type=\"checkbox\" checked><label for=\"sk-estimator-id-1\" class=\"sk-toggleable__label sk-toggleable__label-arrow\">LinearRegression</label><div class=\"sk-toggleable__content\"><pre>LinearRegression()</pre></div></div></div></div></div>"
            ]
          },
          "metadata": {},
          "execution_count": 14
        }
      ]
    },
    {
      "cell_type": "markdown",
      "source": [
        "**Predict The Model**"
      ],
      "metadata": {
        "id": "SXZPBSrhiZ3c"
      }
    },
    {
      "cell_type": "code",
      "source": [
        "y_pred = LinearRegression.predict(X_test)\n",
        "y_pred"
      ],
      "metadata": {
        "colab": {
          "base_uri": "https://localhost:8080/"
        },
        "id": "n-NBR1xBieB3",
        "outputId": "dd205eab-94fc-4698-c884-169557a847ee"
      },
      "execution_count": null,
      "outputs": [
        {
          "output_type": "execute_result",
          "data": {
            "text/plain": [
              "array([76.3879697 , 58.88597004, 76.99026483, 76.85180448, 87.62737816,\n",
              "       79.0140238 , 64.65460865, 53.00791885, 74.18471015, 49.21353815,\n",
              "       52.94765047, 36.66906418, 67.9139255 , 52.27725558, 86.71848338,\n",
              "       70.53070205, 51.95556639, 46.8314386 , 48.82375101, 52.72669531,\n",
              "       73.88582984, 38.88612362, 57.38074421, 36.32839723, 78.14908978,\n",
              "       81.79995075, 75.3849409 , 46.1184787 , 31.03596334, 49.90094972,\n",
              "       65.98409138, 70.4116652 , 60.5061564 , 83.73986218, 84.43184961,\n",
              "       46.07265627, 76.10135181, 70.20596817, 65.85782103,  3.76186106,\n",
              "       78.49792748, 67.25291552, 67.97175998, 60.2734092 , 79.67385074,\n",
              "       67.60005539, 72.24589185, 24.76000748, 85.95581153, 70.08842684,\n",
              "       75.41268803, 66.79864565, 81.16502181, 45.6635254 , 66.11051928,\n",
              "       67.32545668, 86.13600492, 58.72739768, 82.23614367, 81.21768838,\n",
              "       47.23421792, 72.04512129, 70.64302698, 55.92646405, 86.31798368,\n",
              "       63.86663678, 59.48657443, 55.91061249, 57.20534331, 82.14529335,\n",
              "       71.7699997 , 80.48800131, 58.37254249, 46.38271551, 61.23110052,\n",
              "       85.00868631, 84.24763549, 60.29504754, 59.29079503, 53.21863924,\n",
              "       63.67390126, 41.11157129, 78.88214466, 66.84103064, 75.31833494,\n",
              "       54.83981972, 67.15234837, 63.82189712, 75.52303569, 25.62821483,\n",
              "       73.94825388, 93.73515048, 62.58770738, 75.59475675, 29.38699024,\n",
              "       70.73386967, 66.93187334, 61.92556713, 65.55791118, 55.20177526,\n",
              "       75.58525549, 65.95258762, 60.78523045, 58.22323456, 73.69255355,\n",
              "       69.03108155, 53.43168552, 79.78812987, 69.95962427, 48.24398402,\n",
              "       34.75888574, 73.57987373, 61.02255528, 55.44111787, 76.06527502,\n",
              "       62.30119887, 50.03966166, 50.41456346, 72.47871292, 78.5740347 ,\n",
              "       59.65296718, 53.46106773, 86.88463283, 63.62352914, 60.48911247,\n",
              "       69.56999884, 67.61786834, 65.95349122, 48.91443961, 72.2650211 ,\n",
              "       74.04028673, 76.00676728, 45.18827584, 88.2500252 , 63.41762788,\n",
              "       33.49612649, 77.41830126, 80.67922222, 73.64586103, 39.17339666,\n",
              "       49.59104603, 59.64985162, 58.94567985, 53.90806788, 77.58246012,\n",
              "       46.96198062, 43.09459912, 76.52721488, 57.24860962, 79.21480841,\n",
              "       74.99715605, 76.2557111 , 65.66853346, 59.54629188, 84.86974981,\n",
              "       73.3355475 , 43.8021998 , 62.85429878, 75.93245533, 51.92100812,\n",
              "       62.03949307, 65.03337151, 70.28496267, 53.88034365, 89.12694975,\n",
              "       70.96403647, 49.52051633, 92.67984324, 60.67159844, 72.1160923 ,\n",
              "       83.08768858, 79.12026636, 80.44677214, 69.87534158, 57.47299365,\n",
              "       23.71788008, 59.19704574, 64.835207  , 91.76004359, 67.11752378,\n",
              "       61.52335861, 59.86061451, 81.91071454, 60.129492  , 93.33460827,\n",
              "       68.30759036, 63.21362158, 58.57367017, 71.1787559 , 89.12325804,\n",
              "       52.72500029, 61.19295573, 66.97539131, 65.70059223, 54.11620448,\n",
              "       43.40914918, 62.15221448, 67.88839463, 67.0222873 , 62.34513246])"
            ]
          },
          "metadata": {},
          "execution_count": 15
        }
      ]
    },
    {
      "cell_type": "markdown",
      "source": [
        "**Predicting test set result**\n",
        "\n",
        "At this point, the model is now trained and ready to predict the output of new observations. Remember, we split our dataset into train and test sets. We will provide test sets to the model and check its performance."
      ],
      "metadata": {
        "id": "s08My94bixMc"
      }
    },
    {
      "cell_type": "code",
      "source": [
        "prediction_df = pd.DataFrame({'Actual Value':y_test,'Predicted Value':y_pred,'Difference / Residual':y_test-y_pred})\n",
        "prediction_df"
      ],
      "metadata": {
        "colab": {
          "base_uri": "https://localhost:8080/",
          "height": 423
        },
        "id": "c8-rDkYfi0Kc",
        "outputId": "65de599a-8438-419f-e35e-586a77201248"
      },
      "execution_count": null,
      "outputs": [
        {
          "output_type": "execute_result",
          "data": {
            "text/plain": [
              "     Actual Value  Predicted Value  Difference / Residual\n",
              "521            91        76.387970              14.612030\n",
              "737            53        58.885970              -5.885970\n",
              "740            80        76.990265               3.009735\n",
              "660            74        76.851804              -2.851804\n",
              "411            84        87.627378              -3.627378\n",
              "..            ...              ...                    ...\n",
              "408            52        43.409149               8.590851\n",
              "332            62        62.152214              -0.152214\n",
              "208            74        67.888395               6.111605\n",
              "613            65        67.022287              -2.022287\n",
              "78             61        62.345132              -1.345132\n",
              "\n",
              "[200 rows x 3 columns]"
            ],
            "text/html": [
              "\n",
              "  <div id=\"df-5aa1209b-2459-4a67-a83f-7648266e1c71\" class=\"colab-df-container\">\n",
              "    <div>\n",
              "<style scoped>\n",
              "    .dataframe tbody tr th:only-of-type {\n",
              "        vertical-align: middle;\n",
              "    }\n",
              "\n",
              "    .dataframe tbody tr th {\n",
              "        vertical-align: top;\n",
              "    }\n",
              "\n",
              "    .dataframe thead th {\n",
              "        text-align: right;\n",
              "    }\n",
              "</style>\n",
              "<table border=\"1\" class=\"dataframe\">\n",
              "  <thead>\n",
              "    <tr style=\"text-align: right;\">\n",
              "      <th></th>\n",
              "      <th>Actual Value</th>\n",
              "      <th>Predicted Value</th>\n",
              "      <th>Difference / Residual</th>\n",
              "    </tr>\n",
              "  </thead>\n",
              "  <tbody>\n",
              "    <tr>\n",
              "      <th>521</th>\n",
              "      <td>91</td>\n",
              "      <td>76.387970</td>\n",
              "      <td>14.612030</td>\n",
              "    </tr>\n",
              "    <tr>\n",
              "      <th>737</th>\n",
              "      <td>53</td>\n",
              "      <td>58.885970</td>\n",
              "      <td>-5.885970</td>\n",
              "    </tr>\n",
              "    <tr>\n",
              "      <th>740</th>\n",
              "      <td>80</td>\n",
              "      <td>76.990265</td>\n",
              "      <td>3.009735</td>\n",
              "    </tr>\n",
              "    <tr>\n",
              "      <th>660</th>\n",
              "      <td>74</td>\n",
              "      <td>76.851804</td>\n",
              "      <td>-2.851804</td>\n",
              "    </tr>\n",
              "    <tr>\n",
              "      <th>411</th>\n",
              "      <td>84</td>\n",
              "      <td>87.627378</td>\n",
              "      <td>-3.627378</td>\n",
              "    </tr>\n",
              "    <tr>\n",
              "      <th>...</th>\n",
              "      <td>...</td>\n",
              "      <td>...</td>\n",
              "      <td>...</td>\n",
              "    </tr>\n",
              "    <tr>\n",
              "      <th>408</th>\n",
              "      <td>52</td>\n",
              "      <td>43.409149</td>\n",
              "      <td>8.590851</td>\n",
              "    </tr>\n",
              "    <tr>\n",
              "      <th>332</th>\n",
              "      <td>62</td>\n",
              "      <td>62.152214</td>\n",
              "      <td>-0.152214</td>\n",
              "    </tr>\n",
              "    <tr>\n",
              "      <th>208</th>\n",
              "      <td>74</td>\n",
              "      <td>67.888395</td>\n",
              "      <td>6.111605</td>\n",
              "    </tr>\n",
              "    <tr>\n",
              "      <th>613</th>\n",
              "      <td>65</td>\n",
              "      <td>67.022287</td>\n",
              "      <td>-2.022287</td>\n",
              "    </tr>\n",
              "    <tr>\n",
              "      <th>78</th>\n",
              "      <td>61</td>\n",
              "      <td>62.345132</td>\n",
              "      <td>-1.345132</td>\n",
              "    </tr>\n",
              "  </tbody>\n",
              "</table>\n",
              "<p>200 rows × 3 columns</p>\n",
              "</div>\n",
              "    <div class=\"colab-df-buttons\">\n",
              "\n",
              "  <div class=\"colab-df-container\">\n",
              "    <button class=\"colab-df-convert\" onclick=\"convertToInteractive('df-5aa1209b-2459-4a67-a83f-7648266e1c71')\"\n",
              "            title=\"Convert this dataframe to an interactive table.\"\n",
              "            style=\"display:none;\">\n",
              "\n",
              "  <svg xmlns=\"http://www.w3.org/2000/svg\" height=\"24px\" viewBox=\"0 -960 960 960\">\n",
              "    <path d=\"M120-120v-720h720v720H120Zm60-500h600v-160H180v160Zm220 220h160v-160H400v160Zm0 220h160v-160H400v160ZM180-400h160v-160H180v160Zm440 0h160v-160H620v160ZM180-180h160v-160H180v160Zm440 0h160v-160H620v160Z\"/>\n",
              "  </svg>\n",
              "    </button>\n",
              "\n",
              "  <style>\n",
              "    .colab-df-container {\n",
              "      display:flex;\n",
              "      gap: 12px;\n",
              "    }\n",
              "\n",
              "    .colab-df-convert {\n",
              "      background-color: #E8F0FE;\n",
              "      border: none;\n",
              "      border-radius: 50%;\n",
              "      cursor: pointer;\n",
              "      display: none;\n",
              "      fill: #1967D2;\n",
              "      height: 32px;\n",
              "      padding: 0 0 0 0;\n",
              "      width: 32px;\n",
              "    }\n",
              "\n",
              "    .colab-df-convert:hover {\n",
              "      background-color: #E2EBFA;\n",
              "      box-shadow: 0px 1px 2px rgba(60, 64, 67, 0.3), 0px 1px 3px 1px rgba(60, 64, 67, 0.15);\n",
              "      fill: #174EA6;\n",
              "    }\n",
              "\n",
              "    .colab-df-buttons div {\n",
              "      margin-bottom: 4px;\n",
              "    }\n",
              "\n",
              "    [theme=dark] .colab-df-convert {\n",
              "      background-color: #3B4455;\n",
              "      fill: #D2E3FC;\n",
              "    }\n",
              "\n",
              "    [theme=dark] .colab-df-convert:hover {\n",
              "      background-color: #434B5C;\n",
              "      box-shadow: 0px 1px 3px 1px rgba(0, 0, 0, 0.15);\n",
              "      filter: drop-shadow(0px 1px 2px rgba(0, 0, 0, 0.3));\n",
              "      fill: #FFFFFF;\n",
              "    }\n",
              "  </style>\n",
              "\n",
              "    <script>\n",
              "      const buttonEl =\n",
              "        document.querySelector('#df-5aa1209b-2459-4a67-a83f-7648266e1c71 button.colab-df-convert');\n",
              "      buttonEl.style.display =\n",
              "        google.colab.kernel.accessAllowed ? 'block' : 'none';\n",
              "\n",
              "      async function convertToInteractive(key) {\n",
              "        const element = document.querySelector('#df-5aa1209b-2459-4a67-a83f-7648266e1c71');\n",
              "        const dataTable =\n",
              "          await google.colab.kernel.invokeFunction('convertToInteractive',\n",
              "                                                    [key], {});\n",
              "        if (!dataTable) return;\n",
              "\n",
              "        const docLinkHtml = 'Like what you see? Visit the ' +\n",
              "          '<a target=\"_blank\" href=https://colab.research.google.com/notebooks/data_table.ipynb>data table notebook</a>'\n",
              "          + ' to learn more about interactive tables.';\n",
              "        element.innerHTML = '';\n",
              "        dataTable['output_type'] = 'display_data';\n",
              "        await google.colab.output.renderOutput(dataTable, element);\n",
              "        const docLink = document.createElement('div');\n",
              "        docLink.innerHTML = docLinkHtml;\n",
              "        element.appendChild(docLink);\n",
              "      }\n",
              "    </script>\n",
              "  </div>\n",
              "\n",
              "\n",
              "<div id=\"df-6bbbaa12-a763-4608-b8f2-59a51c3a03ef\">\n",
              "  <button class=\"colab-df-quickchart\" onclick=\"quickchart('df-6bbbaa12-a763-4608-b8f2-59a51c3a03ef')\"\n",
              "            title=\"Suggest charts.\"\n",
              "            style=\"display:none;\">\n",
              "\n",
              "<svg xmlns=\"http://www.w3.org/2000/svg\" height=\"24px\"viewBox=\"0 0 24 24\"\n",
              "     width=\"24px\">\n",
              "    <g>\n",
              "        <path d=\"M19 3H5c-1.1 0-2 .9-2 2v14c0 1.1.9 2 2 2h14c1.1 0 2-.9 2-2V5c0-1.1-.9-2-2-2zM9 17H7v-7h2v7zm4 0h-2V7h2v10zm4 0h-2v-4h2v4z\"/>\n",
              "    </g>\n",
              "</svg>\n",
              "  </button>\n",
              "\n",
              "<style>\n",
              "  .colab-df-quickchart {\n",
              "      --bg-color: #E8F0FE;\n",
              "      --fill-color: #1967D2;\n",
              "      --hover-bg-color: #E2EBFA;\n",
              "      --hover-fill-color: #174EA6;\n",
              "      --disabled-fill-color: #AAA;\n",
              "      --disabled-bg-color: #DDD;\n",
              "  }\n",
              "\n",
              "  [theme=dark] .colab-df-quickchart {\n",
              "      --bg-color: #3B4455;\n",
              "      --fill-color: #D2E3FC;\n",
              "      --hover-bg-color: #434B5C;\n",
              "      --hover-fill-color: #FFFFFF;\n",
              "      --disabled-bg-color: #3B4455;\n",
              "      --disabled-fill-color: #666;\n",
              "  }\n",
              "\n",
              "  .colab-df-quickchart {\n",
              "    background-color: var(--bg-color);\n",
              "    border: none;\n",
              "    border-radius: 50%;\n",
              "    cursor: pointer;\n",
              "    display: none;\n",
              "    fill: var(--fill-color);\n",
              "    height: 32px;\n",
              "    padding: 0;\n",
              "    width: 32px;\n",
              "  }\n",
              "\n",
              "  .colab-df-quickchart:hover {\n",
              "    background-color: var(--hover-bg-color);\n",
              "    box-shadow: 0 1px 2px rgba(60, 64, 67, 0.3), 0 1px 3px 1px rgba(60, 64, 67, 0.15);\n",
              "    fill: var(--button-hover-fill-color);\n",
              "  }\n",
              "\n",
              "  .colab-df-quickchart-complete:disabled,\n",
              "  .colab-df-quickchart-complete:disabled:hover {\n",
              "    background-color: var(--disabled-bg-color);\n",
              "    fill: var(--disabled-fill-color);\n",
              "    box-shadow: none;\n",
              "  }\n",
              "\n",
              "  .colab-df-spinner {\n",
              "    border: 2px solid var(--fill-color);\n",
              "    border-color: transparent;\n",
              "    border-bottom-color: var(--fill-color);\n",
              "    animation:\n",
              "      spin 1s steps(1) infinite;\n",
              "  }\n",
              "\n",
              "  @keyframes spin {\n",
              "    0% {\n",
              "      border-color: transparent;\n",
              "      border-bottom-color: var(--fill-color);\n",
              "      border-left-color: var(--fill-color);\n",
              "    }\n",
              "    20% {\n",
              "      border-color: transparent;\n",
              "      border-left-color: var(--fill-color);\n",
              "      border-top-color: var(--fill-color);\n",
              "    }\n",
              "    30% {\n",
              "      border-color: transparent;\n",
              "      border-left-color: var(--fill-color);\n",
              "      border-top-color: var(--fill-color);\n",
              "      border-right-color: var(--fill-color);\n",
              "    }\n",
              "    40% {\n",
              "      border-color: transparent;\n",
              "      border-right-color: var(--fill-color);\n",
              "      border-top-color: var(--fill-color);\n",
              "    }\n",
              "    60% {\n",
              "      border-color: transparent;\n",
              "      border-right-color: var(--fill-color);\n",
              "    }\n",
              "    80% {\n",
              "      border-color: transparent;\n",
              "      border-right-color: var(--fill-color);\n",
              "      border-bottom-color: var(--fill-color);\n",
              "    }\n",
              "    90% {\n",
              "      border-color: transparent;\n",
              "      border-bottom-color: var(--fill-color);\n",
              "    }\n",
              "  }\n",
              "</style>\n",
              "\n",
              "  <script>\n",
              "    async function quickchart(key) {\n",
              "      const quickchartButtonEl =\n",
              "        document.querySelector('#' + key + ' button');\n",
              "      quickchartButtonEl.disabled = true;  // To prevent multiple clicks.\n",
              "      quickchartButtonEl.classList.add('colab-df-spinner');\n",
              "      try {\n",
              "        const charts = await google.colab.kernel.invokeFunction(\n",
              "            'suggestCharts', [key], {});\n",
              "      } catch (error) {\n",
              "        console.error('Error during call to suggestCharts:', error);\n",
              "      }\n",
              "      quickchartButtonEl.classList.remove('colab-df-spinner');\n",
              "      quickchartButtonEl.classList.add('colab-df-quickchart-complete');\n",
              "    }\n",
              "    (() => {\n",
              "      let quickchartButtonEl =\n",
              "        document.querySelector('#df-6bbbaa12-a763-4608-b8f2-59a51c3a03ef button');\n",
              "      quickchartButtonEl.style.display =\n",
              "        google.colab.kernel.accessAllowed ? 'block' : 'none';\n",
              "    })();\n",
              "  </script>\n",
              "</div>\n",
              "    </div>\n",
              "  </div>\n"
            ]
          },
          "metadata": {},
          "execution_count": 17
        }
      ]
    },
    {
      "cell_type": "markdown",
      "source": [
        "**Evaluate the Model**"
      ],
      "metadata": {
        "id": "qGL_rSXWjD86"
      }
    },
    {
      "cell_type": "code",
      "source": [
        "# The coefficient of determination: 1 is perfect prediction\n",
        "print(\"Coefficient of determination: %.2f\" % r2_score(y_test, y_pred))"
      ],
      "metadata": {
        "colab": {
          "base_uri": "https://localhost:8080/"
        },
        "id": "AuG6XOITjxfB",
        "outputId": "fd92e79f-f199-47dd-caa5-6d21f879e5a0"
      },
      "execution_count": null,
      "outputs": [
        {
          "output_type": "stream",
          "name": "stdout",
          "text": [
            "Coefficient of determination: 0.88\n"
          ]
        }
      ]
    },
    {
      "cell_type": "markdown",
      "source": [
        "**Evaluating linear regression models**\n",
        "\n",
        "There are various metrics in place that we can use to evaluate linear regression models. Since models can't be 100 percent efficient, evaluating the model on different metrics can help us optimize the performance, fine-tune it, and obtain better results. The metrics we can use include:\n",
        "\n",
        "**Mean Absolute Error(MAE)** calculates the absolute difference between the actual and predicted values. We get the sum of all the prediction errors and divide them by the total number of data points.\n",
        "\n",
        "**Mean Squared Error(MSE):** This is the most used metric. It finds the squared difference between actual and predicted values. We get the sum of the square of all prediction errors and divide it by the number of data points.\n",
        "\n",
        "\n",
        "**R Squared(R2):** R2 is also called the coefficient of determination or goodness of fit score regression function. It measures how much irregularity in the dependent variable the model can explain. The R2 value is between 0 to 1, and a bigger value shows a better fit between prediction and actual value. From the sklearn.metrics module, import the r2_score function, and find the goodness of fit of the model."
      ],
      "metadata": {
        "id": "lcI9mGEQjD2w"
      }
    },
    {
      "cell_type": "code",
      "source": [
        "from sklearn.metrics import r2_score, mean_absolute_error, mean_squared_error\n",
        "print(\"Mean absolute error: %.2f\" % mean_absolute_error(y_test,y_pred))\n",
        "print(\"Mean squared error: %.2f\" % mean_squared_error(y_test, y_pred))"
      ],
      "metadata": {
        "colab": {
          "base_uri": "https://localhost:8080/"
        },
        "id": "aRmFBVgWjVsN",
        "outputId": "74b717ce-77c0-4e73-dc8d-6a87b96e25fc"
      },
      "execution_count": null,
      "outputs": [
        {
          "output_type": "stream",
          "name": "stdout",
          "text": [
            "Mean absolute error: 4.21\n",
            "Mean squared error: 29.10\n"
          ]
        }
      ]
    },
    {
      "cell_type": "code",
      "source": [
        "score = r2_score(y_test, y_pred)*100\n",
        "score"
      ],
      "metadata": {
        "colab": {
          "base_uri": "https://localhost:8080/"
        },
        "id": "t9e9jeqYjZyO",
        "outputId": "8fd013f3-66c3-412d-cdc3-af2d2adc8168"
      },
      "execution_count": null,
      "outputs": [
        {
          "output_type": "execute_result",
          "data": {
            "text/plain": [
              "88.04332983749565"
            ]
          },
          "metadata": {},
          "execution_count": 19
        }
      ]
    },
    {
      "cell_type": "markdown",
      "source": [
        "The Model is 88% accurate"
      ],
      "metadata": {
        "id": "K9kgsU7xjeFC"
      }
    },
    {
      "cell_type": "markdown",
      "source": [
        "Remamber the goal of Linear Regression:\n",
        "\n",
        "To find a straight line (the \"best-fit\" line) that minimizes the vertical distance between each data point and the line.\n",
        "\n",
        "See the best fit line in a graph below."
      ],
      "metadata": {
        "id": "CQpLNN9pj1df"
      }
    },
    {
      "cell_type": "code",
      "source": [
        "plt.scatter(y_test,y_pred);\n",
        "plt.xlabel('Actual');\n",
        "plt.ylabel('Predicted');"
      ],
      "metadata": {
        "colab": {
          "base_uri": "https://localhost:8080/",
          "height": 449
        },
        "id": "n1bWK99dkVwV",
        "outputId": "4980db57-ba83-411f-841b-4e98548df2aa"
      },
      "execution_count": null,
      "outputs": [
        {
          "output_type": "display_data",
          "data": {
            "text/plain": [
              "<Figure size 640x480 with 1 Axes>"
            ],
            "image/png": "[encoded data removed]"
          },
          "metadata": {}
        }
      ]
    },
    {
      "cell_type": "code",
      "source": [
        "sns.regplot(x=y_test,y=y_pred,ci=None,color ='red');"
      ],
      "metadata": {
        "colab": {
          "base_uri": "https://localhost:8080/",
          "height": 452
        },
        "id": "CAVLMwQxkZoE",
        "outputId": "81f32aaf-2824-4108-d6b6-c0a9d1118864"
      },
      "execution_count": null,
      "outputs": [
        {
          "output_type": "display_data",
          "data": {
            "text/plain": [
              "<Figure size 640x480 with 1 Axes>"
            ],
            "image/png": "[encoded data removed]"
          },
          "metadata": {}
        }
      ]
    }
  ]
}